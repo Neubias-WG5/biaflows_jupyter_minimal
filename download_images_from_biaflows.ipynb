{
 "cells": [
  {
   "cell_type": "markdown",
   "metadata": {},
   "source": [
    "# BIAFLOWS as image source "
   ]
  },
  {
   "cell_type": "markdown",
   "metadata": {},
   "source": [
    "This notebook demonstrates how to download images from the BIAFLOWS server."
   ]
  },
  {
   "cell_type": "markdown",
   "metadata": {},
   "source": [
    "##  Connecting to the BIAFLOWS server"
   ]
  },
  {
   "cell_type": "markdown",
   "metadata": {},
   "source": [
    "Run the cell and enter the public and private key to connect to BIAFLOWS. To find the API-keys, please log-in to BIAFLOWS at: [https://biaflows.neubias.org](https://biaflows.neubias.org). Go to your [account settings](https://biaflows.neubias.org/#/account) to find the keys."
   ]
  },
  {
   "cell_type": "code",
   "execution_count": null,
   "metadata": {},
   "outputs": [],
   "source": [
    "import ipywidgets as widgets\n",
    "BIAFLOW_SERVERS=[\"biaflows.neubias.org\"]\n",
    "connectionDialog_title = widgets.HTML(\n",
    "    value=\"<h2>Connect to BIAFLOWS</h2>\",\n",
    ")\n",
    "connectionDialog_menu = widgets.Dropdown(\n",
    "       options=BIAFLOW_SERVERS,\n",
    "       value=BIAFLOW_SERVERS[0],\n",
    "       description='server:')\n",
    "connectionDialog_publicKey=widgets.Password(description='public key:')\n",
    "connectionDialog_privateKey=widgets.Password(description='private key:')\n",
    "connectionDialog = widgets.VBox([connectionDialog_title, connectionDialog_menu, \n",
    "                                 connectionDialog_publicKey, connectionDialog_privateKey])\n",
    "display(connectionDialog)\n"
   ]
  },
  {
   "cell_type": "markdown",
   "metadata": {},
   "source": [
    "A connection to BIAFLOWS is created using the API-keys."
   ]
  },
  {
   "cell_type": "code",
   "execution_count": null,
   "metadata": {},
   "outputs": [],
   "source": [
    "import logging\n",
    "from cytomine import Cytomine\n",
    " \n",
    "host = connectionDialog_menu.value\n",
    "publicKey = connectionDialog_publicKey.value\n",
    "privateKey = connectionDialog_privateKey.value\n",
    "  \n",
    "with Cytomine(host=host, public_key=publicKey, private_key=privateKey,\n",
    "              verbose=logging.INFO) as conn:\n",
    "    print(conn.current_user)"
   ]
  },
  {
   "cell_type": "markdown",
   "metadata": {},
   "source": [
    "## Selecting a project"
   ]
  },
  {
   "cell_type": "markdown",
   "metadata": {},
   "source": [
    "The list of projects is retrieved from the server and displayed in a menu. Please select the project ``Nuclei-Segmentation`` for this demonstration!"
   ]
  },
  {
   "cell_type": "code",
   "execution_count": null,
   "metadata": {},
   "outputs": [],
   "source": [
    "from cytomine.models import ProjectCollection\n",
    "projects = ProjectCollection().fetch()\n",
    "projectNames = [project.name for project in projects]\n",
    "projectIDs = [project.id for project in projects]\n",
    "projectDialog_menu = widgets.Dropdown(\n",
    "       options=list(zip(projectNames, projectIDs)),\n",
    "       value=projectIDs[1],\n",
    "       description='project:')\n",
    "\n",
    "projectDialog_menu"
   ]
  },
  {
   "cell_type": "markdown",
   "metadata": {},
   "source": [
    "## Downloading the images of the project"
   ]
  },
  {
   "cell_type": "markdown",
   "metadata": {},
   "source": [
    "The Neubias-utilities are used to download the input and ground-truth images. The images are saved into a folder with ``<job-identifier>/in`` and the ground-truth images into ``<job-identifier>/ground_truth``.\n",
    "\n",
    "**Remark 1**: The prepare_data function needs a software-id, we use an, arbitrary one among the existing software ids. It will not be used in the follwoing."
   ]
  },
  {
   "cell_type": "code",
   "execution_count": null,
   "metadata": {},
   "outputs": [],
   "source": [
    "%%capture\n",
    "from neubiaswg5.helpers import NeubiasJob, prepare_data\n",
    "from cytomine.models import Project\n",
    "\n",
    "projectID = projectDialog_menu.value\n",
    "project = Project().fetch(id=projectID)\n",
    "argv = ['--cytomine_public_key', publicKey, \n",
    " '--cytomine_host',  host,\n",
    " '--cytomine_private_key',  privateKey,\n",
    " '--cytomine_id_project',  str(projectID), \n",
    " '--cytomine_id_software', '32392501']\n",
    "with NeubiasJob.from_cli(argv) as nj:\n",
    "    jobID = nj.job.id\n",
    "    in_images, gt_images, in_path, gt_path, out_path, tmp_path = prepare_data(project.disciplineShortName, nj, is_2d=True, **nj.flags)"
   ]
  },
  {
   "cell_type": "markdown",
   "metadata": {},
   "source": [
    "## Displaying the images"
   ]
  },
  {
   "cell_type": "markdown",
   "metadata": {},
   "source": [
    "The input images are displayed. BIAFLOWS uses tif-images. All images are loaded into memory in this example. "
   ]
  },
  {
   "cell_type": "code",
   "execution_count": null,
   "metadata": {},
   "outputs": [],
   "source": [
    "import os\n",
    "import tifffile\n",
    "files = [i.path for i in os.scandir(in_path) if i.is_file()]\n",
    "in_paths_sources = [i for i in files if ('.tif' in i) ]\n",
    "sources = []\n",
    "for path in in_paths_sources:\n",
    "    source = tifffile.imread(path)\n",
    "    tifffile.imshow(source, cmap='gray')\n",
    "    sources.append(source)"
   ]
  },
  {
   "cell_type": "markdown",
   "metadata": {},
   "source": [
    "## Working on the images"
   ]
  },
  {
   "cell_type": "markdown",
   "metadata": {},
   "source": [
    "In the step of displaying the images they have all been loaded and stored ino the variable ``sources``. The images are loaded as n-dimensional arrays."
   ]
  },
  {
   "cell_type": "markdown",
   "metadata": {},
   "source": [
    "We apply a simple example sequence of image processing operations on the first image:\n",
    "* apply a LoG filter\n",
    "* find and apply the Otsu-threshold\n",
    "* apply a watershed-transfomation to separate touching objects"
   ]
  },
  {
   "cell_type": "code",
   "execution_count": null,
   "metadata": {},
   "outputs": [],
   "source": [
    "from scipy import ndimage as ndi\n",
    "from skimage import data, img_as_float, filters\n",
    "from skimage.feature import peak_local_max\n",
    "from skimage.morphology import watershed\n",
    "import matplotlib.pyplot as plt\n",
    "\n",
    "for image in sources:\n",
    "\n",
    "    im = img_as_float(image)\n",
    "\n",
    "    # Apply a LOG filter\n",
    "    im = ndi.gaussian_laplace(im , 5)\n",
    "\n",
    "    # find the otsu-threshold and apply it to the filtered image\n",
    "    val = filters.threshold_otsu(im)\n",
    "    mask = im<=val\n",
    "\n",
    "    # Do a watershed on the mask\n",
    "    distance = ndi.distance_transform_edt(mask)\n",
    "    local_maxi = peak_local_max(distance, indices=False, footprint=np.ones((1, 1)),\n",
    "                                labels=mask)\n",
    "    markers = ndi.label(local_maxi)[0]\n",
    "    labels = watershed(-distance, markers, mask=mask)\n",
    "\n",
    "    # display results\n",
    "    fig, axes = plt.subplots(1, 3, figsize=(8, 3), sharex=True, sharey=True)\n",
    "    ax = axes.ravel()\n",
    "    ax[0].imshow(image, cmap=plt.cm.gray)\n",
    "    ax[0].axis('off')\n",
    "    ax[0].set_title('Original')\n",
    "\n",
    "    ax[1].imshow(mask, cmap=plt.cm.gray)\n",
    "    ax[1].axis('off')\n",
    "    ax[1].set_title('Mask')\n",
    "\n",
    "    ax[2].imshow(labels, cmap=plt.cm.prism)\n",
    "    ax[2].set_title('Separated objects')\n",
    "\n",
    "    fig.tight_layout()\n",
    "\n",
    "    plt.show()\n",
    "    \n",
    "    print(\"nr of cells: \", np.amax(labels))"
   ]
  }
 ],
 "metadata": {
  "kernelspec": {
   "display_name": "Python 3",
   "language": "python",
   "name": "python3"
  },
  "language_info": {
   "codemirror_mode": {
    "name": "ipython",
    "version": 3
   },
   "file_extension": ".py",
   "mimetype": "text/x-python",
   "name": "python",
   "nbconvert_exporter": "python",
   "pygments_lexer": "ipython3",
   "version": "3.7.3"
  }
 },
 "nbformat": 4,
 "nbformat_minor": 2
}
