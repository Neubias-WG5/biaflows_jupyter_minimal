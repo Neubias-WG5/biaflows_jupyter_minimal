{
 "cells": [
  {
   "cell_type": "code",
   "execution_count": null,
   "metadata": {},
   "outputs": [],
   "source": [
    "import ipywidgets as widgets\n",
    "BIAFLOW_SERVERS=[\"biaflows.neubias.org\"]\n",
    "connectionDialog_title = widgets.HTML(\n",
    "    value=\"<h2>Connect to BIAFLOWS</h2>\",\n",
    ")\n",
    "connectionDialog_menu = widgets.Dropdown(\n",
    "       options=BIAFLOW_SERVERS,\n",
    "       value=BIAFLOW_SERVERS[0],\n",
    "       description='server:')\n",
    "connectionDialog_publicKey=widgets.Password(description='public key:')\n",
    "connectionDialog_privateKey=widgets.Password(description='private key:')\n",
    "connectionDialog = widgets.VBox([connectionDialog_title, connectionDialog_menu, \n",
    "                                 connectionDialog_publicKey, connectionDialog_privateKey])\n",
    "display(connectionDialog)\n"
   ]
  },
  {
   "cell_type": "code",
   "execution_count": null,
   "metadata": {},
   "outputs": [],
   "source": [
    "import logging\n",
    "from cytomine import Cytomine\n",
    " \n",
    "host = connectionDialog_menu.value\n",
    "publicKey = connectionDialog_publicKey.value\n",
    "privateKey = connectionDialog_privateKey.value\n",
    "  \n",
    "with Cytomine(host=host, public_key=publicKey, private_key=privateKey,\n",
    "              verbose=logging.INFO) as conn:\n",
    "    print(conn.current_user)"
   ]
  },
  {
   "cell_type": "code",
   "execution_count": null,
   "metadata": {},
   "outputs": [],
   "source": [
    "from cytomine.models import ProjectCollection\n",
    "projects = ProjectCollection().fetch()\n",
    "projectNames = [project.name for project in projects]\n",
    "projectIDs = [project.id for project in projects]\n",
    "projectDialog_menu = widgets.Dropdown(\n",
    "       options=list(zip(projectNames, projectIDs)),\n",
    "       value=projectIDs[0],\n",
    "       description='project:')\n",
    "\n",
    "projectDialog_menu"
   ]
  },
  {
   "cell_type": "code",
   "execution_count": null,
   "metadata": {},
   "outputs": [],
   "source": [
    "%%capture\n",
    "from neubiaswg5.helpers import NeubiasJob, prepare_data\n",
    "\n",
    "projectID = projectDialog_menu.value\n",
    "project = Project().fetch(id=projectID)\n",
    "argv = ['--cytomine_public_key', publicKey, \n",
    " '--cytomine_host',  host,\n",
    " '--cytomine_private_key',  privateKey,\n",
    " '--cytomine_id_project',  str(projectID), \n",
    " '--cytomine_id_software', '32392501']\n",
    "with NeubiasJob.from_cli(argv) as nj:\n",
    "    jobID = nj.job.id\n",
    "    in_images, gt_images, in_path, gt_path, out_path, tmp_path = prepare_data(project.disciplineShortName, nj, is_2d=False, **nj.flags)"
   ]
  },
  {
   "cell_type": "code",
   "execution_count": null,
   "metadata": {},
   "outputs": [],
   "source": [
    "print(in_path)\n",
    "!ls -alh $in_path"
   ]
  },
  {
   "cell_type": "code",
   "execution_count": null,
   "metadata": {},
   "outputs": [],
   "source": [
    "import os\n",
    "import tifffile\n",
    "files = [i.path for i in os.scandir(in_path) if i.is_file()]\n",
    "in_paths_sources = [i for i in files if ('.tif' in i) ]\n",
    "sources = []\n",
    "for path in in_paths_sources:\n",
    "    source = tifffile.imread(path)\n",
    "    tifffile.imshow(source, cmap='gray')\n",
    "    sources.append(source)"
   ]
  }
 ],
 "metadata": {
  "celltoolbar": "Attachments",
  "kernelspec": {
   "display_name": "Python 3",
   "language": "python",
   "name": "python3"
  },
  "language_info": {
   "codemirror_mode": {
    "name": "ipython",
    "version": 3
   },
   "file_extension": ".py",
   "mimetype": "text/x-python",
   "name": "python",
   "nbconvert_exporter": "python",
   "pygments_lexer": "ipython3",
   "version": "3.7.3"
  }
 },
 "nbformat": 4,
 "nbformat_minor": 2
}
